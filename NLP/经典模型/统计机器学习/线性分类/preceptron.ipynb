{
 "cells": [
  {
   "cell_type": "markdown",
   "id": "15bdf15e-f33c-414e-89ed-fea0ff1b197d",
   "metadata": {},
   "source": [
    "# 2.感知机"
   ]
  },
  {
   "cell_type": "markdown",
   "id": "677ab109-7dfe-4d13-818a-dc1caca44811",
   "metadata": {},
   "source": [
    "一种二类分类的线性分类模型,其输入为实例的特征向量，输出为示例的类别，取+1和-1二值。感知机对应于输入空间（特征空间）中将示例划分为正负二类的分离超平面，属于判别模型。\n",
    "\n",
    "参考文献：\n",
    "Rosenblatt, F. The perceptron: a probabilistic model for information storage and organization in the brain.[J]. Psychological Review, 1958, 65:386-408."
   ]
  },
  {
   "cell_type": "code",
   "execution_count": 426,
   "id": "e361827d-b904-44fb-b983-15cef05be81a",
   "metadata": {},
   "outputs": [],
   "source": [
    "import numpy\n",
    "import matplotlib.pyplot as plt\n",
    "from sklearn.model_selection import train_test_split"
   ]
  },
  {
   "cell_type": "code",
   "execution_count": 427,
   "id": "1ae85b3c-61d8-4e2c-8735-3dd59580e423",
   "metadata": {},
   "outputs": [],
   "source": [
    "numpy.random.seed(42)"
   ]
  },
  {
   "cell_type": "code",
   "execution_count": 428,
   "id": "001124ae-7d61-4e44-9548-2d1656bec4ca",
   "metadata": {},
   "outputs": [],
   "source": [
    "#%pprint"
   ]
  },
  {
   "cell_type": "markdown",
   "id": "9c4537bc-46d0-4a1b-a0f9-2d61000ede7b",
   "metadata": {},
   "source": [
    "## 2.1感知器模型  y=sign(wx+b)"
   ]
  },
  {
   "cell_type": "code",
   "execution_count": 429,
   "id": "0955d06f-1884-4016-b105-d7d6fd432bca",
   "metadata": {},
   "outputs": [],
   "source": [
    "# 公式定义\n",
    "def sign(x):\n",
    "    if x>=0:\n",
    "        return 1\n",
    "    else:\n",
    "        return -1\n",
    "def perceptron(x,w,b):\n",
    "    # print(w@x+b)\n",
    "    y=sign(w@x+b)\n",
    "    return y"
   ]
  },
  {
   "cell_type": "code",
   "execution_count": 430,
   "id": "70ed4051-9ded-4b8e-a3d6-0f8596fd2172",
   "metadata": {},
   "outputs": [
    {
     "data": {
      "image/png": "[encoded data removed]",
      "text/plain": [
       "<Figure size 360x360 with 1 Axes>"
      ]
     },
     "metadata": {
      "needs_background": "light"
     },
     "output_type": "display_data"
    }
   ],
   "source": [
    "# 模型可视化\n",
    "data_x = []\n",
    "data_y = []\n",
    "with open(\"data.txt\",\"r\",encoding=\"utf-8\") as f:\n",
    "    for line in f:\n",
    "        line= line.strip().split(\",\")\n",
    "        data_x.append([float(line[0]),float(line[1])])\n",
    "        if line[2] == \"0\":\n",
    "            data_y.append(int(-1))\n",
    "        else:\n",
    "            data_y.append(int(line[2]))\n",
    "            \n",
    "x_train,x_test,y_train,y_test = train_test_split(data_x,data_y,test_size=0.3)\n",
    "\n",
    "positive = [x for x,y in zip(x_train,y_train) if y==1]\n",
    "negative = [x for x,y in zip(x_train,y_train) if y==-1]\n",
    "\n",
    "w = numpy.random.uniform(-0.5, 0.5, (2))\n",
    "b = numpy.random.uniform(-1, 1)\n",
    "# w,b\n",
    "def create_image(positive,negative,w,b):\n",
    "    x1 = numpy.arange(30, 100, 0.5)\n",
    "    x2 = -(w[0]/w[1])*x1-(b/w[1])\n",
    "    fig, ax = plt.subplots(figsize=(5, 5)) \n",
    "    ax.scatter([i[0] for i in positive], [i[1] for i in positive], s=50, c='b', marker='o', label='positive') \n",
    "    ax.scatter([i[0] for i in negative], [i[1] for i in negative], s=50, c='r', marker='x', label='negative') \n",
    "    ax.plot(x1, x2, label='Decision Boundary', c='grey') \n",
    "    ax.legend() \n",
    "    plt.show() \n",
    "create_image(positive,negative,w,b)"
   ]
  },
  {
   "cell_type": "code",
   "execution_count": 431,
   "id": "84b60722-83cf-48ab-aad9-d0d4604f9e7b",
   "metadata": {},
   "outputs": [
    {
     "data": {
      "text/plain": [
       "[-1, -1, -1, -1, -1, -1, 1, -1, -1, -1, -1, 1, -1, -1, -1, -1, -1, -1, -1, 1, -1, 1, -1, -1, -1, -1, 1, 1, 1, -1, -1, -1, -1, -1, -1, -1, -1, -1, -1, -1, -1, -1, -1, 1, -1, 1, -1, -1, -1, -1, 1, -1, -1, 1, 1, -1, -1, 1, -1, -1, -1, -1, 1, -1, -1, -1, -1, 1, -1, -1]"
      ]
     },
     "execution_count": 431,
     "metadata": {},
     "output_type": "execute_result"
    }
   ],
   "source": [
    "pre_list = []\n",
    "for x in x_train:\n",
    "    pre_list.append(perceptron(x,w,b))\n",
    "pre_list"
   ]
  },
  {
   "cell_type": "markdown",
   "id": "9a6da84d-e215-4b41-a89c-d2bc5d692fc9",
   "metadata": {
    "tags": []
   },
   "source": [
    "# 感知器学习策略"
   ]
  },
  {
   "cell_type": "markdown",
   "id": "dd34ae36-6d9a-4b99-a064-337dd7a436e4",
   "metadata": {
    "tags": []
   },
   "source": [
    "## 样本到超平面距离计算"
   ]
  },
  {
   "cell_type": "code",
   "execution_count": 432,
   "id": "58a7af0f-6499-49c8-a142-7350671fc68b",
   "metadata": {},
   "outputs": [],
   "source": [
    "def distance(x,w,b):\n",
    "    w_l2 = numpy.linalg.norm(w)\n",
    "    d = abs(w@x+b)/w_l2\n",
    "    return d"
   ]
  },
  {
   "cell_type": "code",
   "execution_count": 433,
   "id": "a88b3636-8f91-45b4-8153-b42d4934ed2a",
   "metadata": {},
   "outputs": [
    {
     "data": {
      "text/plain": [
       "[42.245725002282825, 28.634566093598846, 5.299586193987719, 20.16515952287232, 10.661033232477022, 2.975711552620799, 24.48808321215964, 29.30157441974909, 13.150982310666361, 24.66433253603162, 22.423366160673183, 9.522409799533808, 33.09218320505205, 38.97168420706115, 52.3532721165883, 34.104625426958386, 49.80135534561562, 9.210626241521144, 21.91626033468915, 0.9315674298986414, 22.587640263908234, 1.8931612030094889, 27.227007111697027, 35.76043389386747, 10.496295324562688, 23.490460460707308, 6.997619905641139, 3.185127786920806, 30.609530932470236, 6.364250316225666, 38.79439769464487, 8.201821167397773, 10.97542265856823, 42.51332739712724, 21.259974035630776, 8.787699111596664, 21.1357184630841, 11.221250071776444, 0.29605381227700855, 40.21036353605919, 41.18977831903858, 13.701368366830229, 19.08959519333912, 6.354429104164636, 6.422336990314767, 29.826097725309737, 38.565740180501585, 4.813199746387953, 45.9108649153955, 12.12555047387438, 5.460460355132562, 11.956606170519006, 4.4786699833412715, 7.164771863675634, 2.0008233437213776, 47.61489329821254, 34.03049774683247, 14.111756776393833, 1.0316052089066732, 8.262329604072768, 22.19165304190554, 3.0115047282492853, 12.42738555343203, 15.275901757319334, 28.962376154727753, 10.874629812496115, 6.018260817704966, 12.891157626868782, 23.404713979636444, 44.64258849914176]"
      ]
     },
     "execution_count": 433,
     "metadata": {},
     "output_type": "execute_result"
    }
   ],
   "source": [
    "d_list = []\n",
    "for x in x_train:\n",
    "    d_list.append(distance(x,w,b))\n",
    "d_list"
   ]
  },
  {
   "cell_type": "code",
   "execution_count": 434,
   "id": "d85419b9-d26a-4e10-9f44-f1361518d8a6",
   "metadata": {},
   "outputs": [],
   "source": [
    "def distance(x,w,b,y):\n",
    "    w_l2 = numpy.linalg.norm(w)\n",
    "    d = -y*(w@x+b)/w_l2\n",
    "    return d"
   ]
  },
  {
   "cell_type": "code",
   "execution_count": 435,
   "id": "4365ba2e-8233-4ac0-9169-73221a7783ab",
   "metadata": {},
   "outputs": [
    {
     "data": {
      "text/plain": [
       "[-42.245725002282825, 28.634566093598846, 5.299586193987719, -20.16515952287232, 10.661033232477022, -2.975711552620799, -24.48808321215964, -29.30157441974909, -13.150982310666361, 24.66433253603162, 22.423366160673183, 9.522409799533808, 33.09218320505205, 38.97168420706115, -52.3532721165883, 34.104625426958386, 49.80135534561562, 9.210626241521144, -21.91626033468915, -0.9315674298986414, 22.587640263908234, -1.8931612030094889, -27.227007111697027, -35.76043389386747, 10.496295324562688, -23.490460460707308, -6.997619905641139, 3.185127786920806, 30.609530932470236, -6.364250316225666, 38.79439769464487, 8.201821167397773, -10.97542265856823, -42.51332739712724, 21.259974035630776, -8.787699111596664, 21.1357184630841, 11.221250071776444, -0.29605381227700855, 40.21036353605919, -41.18977831903858, -13.701368366830229, 19.08959519333912, -6.354429104164636, 6.422336990314767, 29.826097725309737, 38.565740180501585, -4.813199746387953, 45.9108649153955, 12.12555047387438, 5.460460355132562, 11.956606170519006, 4.4786699833412715, 7.164771863675634, 2.0008233437213776, 47.61489329821254, 34.03049774683247, 14.111756776393833, -1.0316052089066732, 8.262329604072768, 22.19165304190554, 3.0115047282492853, 12.42738555343203, 15.275901757319334, -28.962376154727753, 10.874629812496115, 6.018260817704966, 12.891157626868782, -23.404713979636444, 44.64258849914176]"
      ]
     },
     "execution_count": 435,
     "metadata": {},
     "output_type": "execute_result"
    }
   ],
   "source": [
    "d_list = []\n",
    "for x,y in zip(x_train,y_train):\n",
    "    d_list.append(distance(x,w,b,y))\n",
    "d_list"
   ]
  },
  {
   "cell_type": "markdown",
   "id": "4d49dfda-4f61-4a89-b966-c930dde77440",
   "metadata": {},
   "source": [
    "## 计算经验损失"
   ]
  },
  {
   "cell_type": "code",
   "execution_count": 436,
   "id": "cc10f9be-265d-4532-99d9-97848bbb612f",
   "metadata": {},
   "outputs": [],
   "source": [
    "def loss_one(x,w,b,y):\n",
    "    d = -y*(w@x+b)\n",
    "    if d>0: return d \n",
    "    else: return 0"
   ]
  },
  {
   "cell_type": "code",
   "execution_count": 437,
   "id": "14bd0fdd-9c89-4095-aae9-2c514955962c",
   "metadata": {},
   "outputs": [
    {
     "data": {
      "text/plain": [
       "[0, 10.535081377629666, 1.9497963279389188, 0, 3.9223521776663928, 0, 0, 0, 0, 9.074373592484736, 8.249888840323237, 3.5034357364211255, 12.175104797784513, 14.338260380919671, 0, 12.54759730083368, 18.322656944314545, 3.3887259431896295, 0, 0, 8.310327718291962, 0, 0, 0, 3.8617426590801847, 0, 0, 1.1718557328117294, 11.261700221004372, 0, 14.273034044702229, 3.0175716007310838, 0, 0, 7.8218596300550525, 0, 7.776144162807381, 4.128464258144443, 0, 14.793988869667377, 0, 0, 7.023345077779729, 0, 2.3628729908588477, 10.97346352957365, 14.188907555366512, 0, 16.8912878379246, 4.461169782467183, 2.0089843168079975, 4.3990126686377655, 1.6477690838344925, 2.6360257874781547, 0.7361325706652808, 17.51822514244277, 12.52032462836123, 5.191924526974419, 0, 3.0398335516305854, 8.164638148746416, 1.1079772355382422, 4.572219382987375, 5.620230724083197, 0, 4.000937526057181, 2.2142073764650254, 4.742848004296236, 0, 16.424670141994206]"
      ]
     },
     "execution_count": 437,
     "metadata": {},
     "output_type": "execute_result"
    }
   ],
   "source": [
    "loss_one_list = []\n",
    "for x,y in zip(x_train,y_train):\n",
    "    loss_one_list.append(loss_one(x,w,b,y))\n",
    "loss_one_list"
   ]
  },
  {
   "cell_type": "code",
   "execution_count": 438,
   "id": "5070236d-aed3-4c4f-8d44-e20d32327ed3",
   "metadata": {},
   "outputs": [
    {
     "name": "stdout",
     "output_type": "stream",
     "text": [
      "326.8709699077731\n"
     ]
    }
   ],
   "source": [
    "#经验风险损失函数\n",
    "def loss(data_x,data_y,w,b):\n",
    "    l = 0\n",
    "    for x,y in zip(x_train,y_train):\n",
    "        l += loss_one(x,w,b,y)\n",
    "    return l\n",
    "print(loss(x_train,y_train,w,b))"
   ]
  },
  {
   "cell_type": "markdown",
   "id": "c609e561-467c-4b76-aebf-9f2cd1553b16",
   "metadata": {},
   "source": [
    "# 感知机学习算法"
   ]
  },
  {
   "cell_type": "markdown",
   "id": "4a25a426-1d04-486f-81c6-bd3bb0fe682e",
   "metadata": {},
   "source": [
    "##  原始形式"
   ]
  },
  {
   "cell_type": "code",
   "execution_count": 439,
   "id": "3387d0e8-388c-4b22-aec5-9847c479df2b",
   "metadata": {},
   "outputs": [],
   "source": [
    "def grad_w(x,y,w,b):\n",
    "    # print(x,y)\n",
    "    d = -y*(w@x+b)\n",
    "    # print(d)\n",
    "    if d>0: return (y*numpy.sum(x))\n",
    "    else: return 0\n",
    "def grad_b(x,y,w,b):\n",
    "    d = -y*(w@x+b)\n",
    "    if d>0: return y\n",
    "    else: return 0"
   ]
  },
  {
   "cell_type": "code",
   "execution_count": 440,
   "id": "0104221c-a476-4c83-a823-98db7d205d68",
   "metadata": {},
   "outputs": [
    {
     "name": "stdout",
     "output_type": "stream",
     "text": [
      "loss 324768.7159884749\n",
      "right_rate 0.7\n",
      "end_right_rate: 0.9333333333333333\n"
     ]
    }
   ],
   "source": [
    "# 求解过程\n",
    "lr = 1\n",
    "# print(\"loss\",loss(data_x,data_y,w,b))\n",
    "for i in range(10000):\n",
    "    for x,y in zip(x_train,y_train):\n",
    "        # print(w,b)\n",
    "        # print(grad_w(x,y,w,b))\n",
    "        # print(grad_b(x,y,w,b))\n",
    "        w += (lr*grad_w(x,y,w,b))\n",
    "        b += (lr*grad_b(x,y,w,b))\n",
    "    # print(\"loss\",loss(data_x,data_y,w,b))\n",
    "    \n",
    "    stop_condition = []\n",
    "\n",
    "    for x,y in zip(x_test,y_test):\n",
    "        stop_condition.append(True if sign(-y*(w@x+b))< 0 else  False)\n",
    "    right_rate = sum(stop_condition)/len(stop_condition)\n",
    "    if i %1000 ==0:\n",
    "        print(\"loss\",loss(x_train,y_train,w,b))\n",
    "        print(\"right_rate\",right_rate)\n",
    "    if right_rate>0.9:\n",
    "        print(\"end_right_rate:\",right_rate)\n",
    "        break"
   ]
  },
  {
   "cell_type": "code",
   "execution_count": 441,
   "id": "f488747a-192f-4940-8ff0-eb372884fbad",
   "metadata": {},
   "outputs": [],
   "source": [
    "# for x,y in zip(data_x,data_y):\n",
    "#     print(\"----------------------\")\n",
    "#     print(\"x:\",x)\n",
    "#     print(\"perceptron:\",perceptron(x,w,b))\n",
    "#     print(\"true:\",y)\n",
    "#     print(\"----------------------\")"
   ]
  },
  {
   "cell_type": "markdown",
   "id": "09f20a19-fd58-4bd6-ae2d-fa20a31ff3d1",
   "metadata": {},
   "source": [
    "##  对偶形式"
   ]
  },
  {
   "cell_type": "code",
   "execution_count": 442,
   "id": "0d5a946d-4735-4b28-8ce6-43c3f85d7c01",
   "metadata": {},
   "outputs": [
    {
     "data": {
      "image/png": "[encoded data removed]",
      "text/plain": [
       "<Figure size 360x360 with 1 Axes>"
      ]
     },
     "metadata": {
      "needs_background": "light"
     },
     "output_type": "display_data"
    }
   ],
   "source": [
    "numpy.random.seed(5)\n",
    "a = numpy.random.uniform(-0.5, 0.5, (len(x_train)))\n",
    "b = numpy.random.uniform(-1, 1)\n",
    "# a,b\n",
    "# x_train@a*y_train\n",
    "\n",
    "w = numpy.sum([numpy.dot(xi,ay) for ay,xi in zip(a*y_train,x_train)],axis=0)\n",
    "create_image(positive,negative,w,b)"
   ]
  },
  {
   "cell_type": "code",
   "execution_count": 443,
   "id": "ad355d23-30aa-4d12-8db8-aa828bde6c9b",
   "metadata": {},
   "outputs": [],
   "source": [
    "def grad_w(x,y,w,b):\n",
    "    # print(x,y)\n",
    "    d = -y*(w@x+b)\n",
    "    # print(d)\n",
    "    if d>=0: return 1\n",
    "    else: return 0\n",
    "def grad_b(x,y,w,b):\n",
    "    d = -y*(w@x+b)\n",
    "    if d>=0: return y\n",
    "    else: return 0"
   ]
  },
  {
   "cell_type": "code",
   "execution_count": null,
   "id": "7238d9f7-3624-426b-8295-f7fc3a9507b8",
   "metadata": {},
   "outputs": [
    {
     "name": "stdout",
     "output_type": "stream",
     "text": [
      "loss 106906.90821216116\n",
      "right_rate 0.7\n",
      "loss 45504.81474484549\n",
      "right_rate 0.5\n"
     ]
    }
   ],
   "source": [
    "# 求解过程\n",
    "lr = 1\n",
    "# print(\"loss\",loss(data_x,data_y,w,b))\n",
    "for i in range(10000):\n",
    "    n = 0 \n",
    "    for x,y in zip(x_train,y_train):\n",
    "        # print(w,b)\n",
    "        # print(grad_w(x,y,w,b))\n",
    "        # print(grad_b(x,y,w,b))\n",
    "        a[n] += (lr*grad_w(x,y,w,b))\n",
    "        b += (lr*grad_b(x,y,w,b))\n",
    "        w = numpy.sum([numpy.dot(xi,ay) for ay,xi in zip(a*y_train,x_train)],axis=0)\n",
    "        n+=1\n",
    "    # print(\"loss\",loss(data_x,data_y,w,b))\n",
    "        \n",
    "       \n",
    "    stop_condition = []\n",
    "    for x,y in zip(x_test,y_test):\n",
    "        stop_condition.append(True if sign(-y*(w@x+b))< 0 else  False)\n",
    "    right_rate = sum(stop_condition)/len(stop_condition)\n",
    "    if i %1000 ==0:\n",
    "        print(\"loss\",loss(x_train,y_train,w,b))\n",
    "        print(\"right_rate\",right_rate)\n",
    "    if right_rate>0.9:\n",
    "        print(\"end_right_rate:\",right_rate)\n",
    "        break\n",
    "   \n",
    "   "
   ]
  },
  {
   "cell_type": "markdown",
   "id": "118ca2b5-f1bd-4755-b6bf-a4b94dac60c7",
   "metadata": {},
   "source": [
    "## 参数输出，可视化"
   ]
  },
  {
   "cell_type": "code",
   "execution_count": null,
   "id": "31a4173e-a3b8-4456-8a59-572881238dc1",
   "metadata": {},
   "outputs": [],
   "source": [
    "print(\"w:\",w)\n",
    "print(\"b:\",b)"
   ]
  },
  {
   "cell_type": "code",
   "execution_count": null,
   "id": "e2e5ce76-6b59-443a-a118-ec00a3a3d983",
   "metadata": {},
   "outputs": [],
   "source": [
    "positive = [x for x,y in zip(x_train,y_train) if y==1]\n",
    "negative = [x for x,y in zip(x_train,y_train) if y==-1] \n",
    "create_image(positive,negative,w,b)"
   ]
  },
  {
   "cell_type": "code",
   "execution_count": null,
   "id": "1dfc2225-8d70-444a-a88e-1be7ada4c210",
   "metadata": {},
   "outputs": [],
   "source": [
    "positive = [x for x,y in zip(x_test,y_test) if y==1]\n",
    "negative = [x for x,y in zip(x_test,y_test) if y==-1]\n",
    "create_image(positive,negative,w,b)"
   ]
  }
 ],
 "metadata": {
  "kernelspec": {
   "display_name": "Python 3 (ipykernel)",
   "language": "python",
   "name": "python3"
  },
  "language_info": {
   "codemirror_mode": {
    "name": "ipython",
    "version": 3
   },
   "file_extension": ".py",
   "mimetype": "text/x-python",
   "name": "python",
   "nbconvert_exporter": "python",
   "pygments_lexer": "ipython3",
   "version": "3.7.13"
  }
 },
 "nbformat": 4,
 "nbformat_minor": 5
}
